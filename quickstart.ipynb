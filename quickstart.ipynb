{
 "cells": [
  {
   "cell_type": "markdown",
   "metadata": {},
   "source": [
    "<img src=\"https://microsoft.github.io/Accera/assets/Accera_darktext.png\" alt=\"Accera logo\" width=\"600\"/>\n",
    "\n",
    "# Accera Quickstart Example\n",
    "\n",
    "In this example, we will:\n",
    "\n",
    "* Implement matrix multiplication with a ReLU activation (matmul + ReLU), commonly used in in machine learning algorithms\n",
    "  * Generate two implementations: a naive algorithm and one with loop transformations\n",
    "* Compare the timings of both implementations"
   ]
  },
  {
   "cell_type": "markdown",
   "metadata": {},
   "source": [
    "### Setup\n",
    "\n",
    "First, we'll install Accera using `pip`.\n",
    "\n",
    "#### Optional: if running this notebook locally\n",
    "\n",
    "* Linux/macOS: install gcc using `apt install gcc`.\n",
    "* Windows: install Microsoft Visual Studio and run `vcvars64.bat` to setup Visual Studio tools in your `PATH` before starting the Jupyter environment."
   ]
  },
  {
   "cell_type": "code",
   "execution_count": null,
   "metadata": {},
   "outputs": [],
   "source": [
    "!pip install accera"
   ]
  },
  {
   "cell_type": "markdown",
   "metadata": {},
   "source": [
    "### Build\n",
    "\n",
    "Run the code below to implement `ReLU(C + A @ B)` on arrays `A`, `B`, and `C`. \n",
    "\n",
    "We'll build a package called `\"hello_accera\"` that will export both versions as C functions."
   ]
  },
  {
   "cell_type": "code",
   "execution_count": 1,
   "metadata": {},
   "outputs": [
    {
     "name": "stdout",
     "output_type": "stream",
     "text": [
      "Building function matmul_relu_fusion_naive_e22614a4\n",
      "Building function matmul_relu_fusion_transformed_71699a24\n",
      "mkdir D:\\win\\repos\\accera-demo\\_tmp\\logs\n",
      "mkdir D:\\win\\repos\\accera-demo\\_tmp\\hello_accera_Globals_intermediate\n",
      "mkdir D:\\win\\repos\\accera-demo\\_tmp\n",
      "mkdir D:\\win\\repos\\accera-demo\\_tmp\\generator\n",
      "mkdir D:\\win\\repos\\accera-demo\\_tmp\\lib\n",
      "mkdir D:\\win\\repos\\accera-demo\\_tmp\\hello_accera_Globals\n",
      "\n",
      "cd D:\\win\\repos\\accera-demo\\_tmp\\hello_accera_Globals\n",
      "\"D:\\win\\miniconda3\\envs\\robocode_py38\\lib\\site-packages\\accera\\bin\\acc-opt\" --verify-each=false --acc-to-llvm=\"dump-passes=false dump-intra-pass-ir=false target=host enable-profiling=false\" \"D:\\win\\repos\\accera-demo\\_tmp\\hello_accera_Globals.mlir\"\n",
      "\n",
      "\n",
      "cd D:\\win\\repos\\accera-demo\\_tmp\\hello_accera_Globals_intermediate\n",
      "\"D:\\win\\miniconda3\\envs\\robocode_py38\\lib\\site-packages\\accera\\bin\\mlir-translate\" --mlir-print-op-on-diagnostic --mlir-to-llvmir -o=\"D:\\win\\repos\\accera-demo\\_tmp\\hello_accera_Globals\\hello_accera_Globals.ll\" \"D:\\win\\repos\\accera-demo\\_tmp\\hello_accera_Globals\\hello_accera_Globals_llvm.mlir\"\n",
      "\n",
      "\n",
      "cd D:\\win\\repos\\accera-demo\\_tmp\\hello_accera_Globals_intermediate\n",
      "\"D:\\win\\miniconda3\\envs\\robocode_py38\\lib\\site-packages\\accera\\bin\\opt\" -O3 -fp-contract=fast -mcpu=native -o=\"D:\\win\\repos\\accera-demo\\_tmp\\hello_accera_Globals\\hello_accera_Globals.bc\" \"D:\\win\\repos\\accera-demo\\_tmp\\hello_accera_Globals\\hello_accera_Globals.ll\"\n",
      "\n",
      "\n",
      "cd D:\\win\\repos\\accera-demo\\_tmp\\hello_accera_Globals_intermediate\n",
      "\"D:\\win\\miniconda3\\envs\\robocode_py38\\lib\\site-packages\\accera\\bin\\llc\" -O3 -fp-contract=fast -mcpu=native -relocation-model=pic -filetype=obj -o=\"D:\\win\\repos\\accera-demo\\_tmp\\hello_accera_Globals\\hello_accera_Globals.obj\" \"D:\\win\\repos\\accera-demo\\_tmp\\hello_accera_Globals\\hello_accera_Globals.bc\"\n",
      "\n",
      "\n",
      "cd D:\\win\\repos\\accera-demo\\_tmp\\hello_accera_Globals_intermediate\n",
      "\"D:\\win\\miniconda3\\envs\\robocode_py38\\lib\\site-packages\\accera\\bin\\llc\" -O3 -fp-contract=fast -mcpu=native -relocation-model=pic --filetype=asm -o=\"D:\\win\\repos\\accera-demo\\_tmp\\hello_accera_Globals\\hello_accera_Globals.s\" \"D:\\win\\repos\\accera-demo\\_tmp\\hello_accera_Globals\\hello_accera_Globals.bc\"\n",
      "\n",
      "mkdir D:\\win\\repos\\accera-demo\\_tmp\\logs\n",
      "mkdir D:\\win\\repos\\accera-demo\\_tmp\\hello_accera_intermediate\n",
      "mkdir D:\\win\\repos\\accera-demo\\_tmp\n",
      "mkdir D:\\win\\repos\\accera-demo\\_tmp\\generator\n",
      "mkdir D:\\win\\repos\\accera-demo\\_tmp\\lib\n",
      "mkdir D:\\win\\repos\\accera-demo\\_tmp\\hello_accera\n",
      "\n",
      "cd D:\\win\\repos\\accera-demo\\_tmp\\hello_accera\n",
      "\"D:\\win\\miniconda3\\envs\\robocode_py38\\lib\\site-packages\\accera\\bin\\acc-opt\" --verify-each=false --acc-to-llvm=\"dump-passes=false dump-intra-pass-ir=false target=host enable-profiling=false\" \"D:\\win\\repos\\accera-demo\\_tmp\\hello_accera.mlir\"\n",
      "\n",
      "\n",
      "cd D:\\win\\repos\\accera-demo\\_tmp\\hello_accera_intermediate\n",
      "\"D:\\win\\miniconda3\\envs\\robocode_py38\\lib\\site-packages\\accera\\bin\\mlir-translate\" --mlir-print-op-on-diagnostic --mlir-to-llvmir -o=\"D:\\win\\repos\\accera-demo\\_tmp\\hello_accera\\hello_accera.ll\" \"D:\\win\\repos\\accera-demo\\_tmp\\hello_accera\\hello_accera_llvm.mlir\"\n",
      "\n",
      "\n",
      "cd D:\\win\\repos\\accera-demo\\_tmp\\hello_accera_intermediate\n",
      "\"D:\\win\\miniconda3\\envs\\robocode_py38\\lib\\site-packages\\accera\\bin\\opt\" -O3 -fp-contract=fast -mcpu=native -o=\"D:\\win\\repos\\accera-demo\\_tmp\\hello_accera\\hello_accera.bc\" \"D:\\win\\repos\\accera-demo\\_tmp\\hello_accera\\hello_accera.ll\"\n",
      "\n",
      "\n",
      "cd D:\\win\\repos\\accera-demo\\_tmp\\hello_accera_intermediate\n",
      "\"D:\\win\\miniconda3\\envs\\robocode_py38\\lib\\site-packages\\accera\\bin\\llc\" -O3 -fp-contract=fast -mcpu=native -relocation-model=pic -filetype=obj -o=\"D:\\win\\repos\\accera-demo\\_tmp\\hello_accera\\hello_accera.obj\" \"D:\\win\\repos\\accera-demo\\_tmp\\hello_accera\\hello_accera.bc\"\n",
      "\n",
      "\n",
      "cd D:\\win\\repos\\accera-demo\\_tmp\\hello_accera_intermediate\n",
      "\"D:\\win\\miniconda3\\envs\\robocode_py38\\lib\\site-packages\\accera\\bin\\llc\" -O3 -fp-contract=fast -mcpu=native -relocation-model=pic --filetype=asm -o=\"D:\\win\\repos\\accera-demo\\_tmp\\hello_accera\\hello_accera.s\" \"D:\\win\\repos\\accera-demo\\_tmp\\hello_accera\\hello_accera.bc\"\n",
      "\n",
      "[Name: hello_accera\n",
      "Directory: D:\\win\\repos\\accera-demo\\_tmp\\hello_accera\n",
      "Accera MLIR: D:\\win\\repos\\accera-demo\\_tmp\\hello_accera.mlir\n",
      "Lowered MLIR: D:\\win\\repos\\accera-demo\\_tmp\\hello_accera\\hello_accera_llvm.mlir\n",
      "LLVM IR: D:\\win\\repos\\accera-demo\\_tmp\\hello_accera\\hello_accera.ll\n",
      "Optimized LLVM IR: D:\\win\\repos\\accera-demo\\_tmp\\hello_accera\\hello_accera.bc\n",
      "Object file: D:\\win\\repos\\accera-demo\\_tmp\\hello_accera\\hello_accera.obj\n",
      "ASM Output: D:\\win\\repos\\accera-demo\\_tmp\\hello_accera\\hello_accera.s\n",
      "]\n"
     ]
    }
   ],
   "source": [
    "import accera as acc\n",
    "\n",
    "# define placeholder inputs/output\n",
    "A = acc.Array(role=acc.Array.Role.INPUT, shape=(512, 512))\n",
    "B = acc.Array(role=acc.Array.Role.INPUT, shape=(512, 512))\n",
    "C = acc.Array(role=acc.Array.Role.INPUT_OUTPUT, shape=(512, 512))\n",
    "\n",
    "# implement the logic for matmul and relu\n",
    "matmul = acc.Nest(shape=(512, 512, 512))\n",
    "i1, j1, k1 = matmul.get_indices()\n",
    "@matmul.iteration_logic\n",
    "def _():\n",
    "    C[i1, j1] += A[i1, k1] * B[k1, j1]\n",
    "\n",
    "relu = acc.Nest(shape=(512, 512))\n",
    "i2, j2 = relu.get_indices()\n",
    "@relu.iteration_logic\n",
    "def _():\n",
    "    C[i2, j2] = acc.max(C[i2, j2], 0.0)\n",
    "\n",
    "package = acc.Package()\n",
    "\n",
    "# fuse the i and j indices of matmul and relu, add to the package\n",
    "schedule = acc.fuse(matmul.create_schedule(), relu.create_schedule(), partial=2)\n",
    "package.add(schedule, args=(A, B, C), base_name=\"matmul_relu_fusion_naive\")\n",
    "\n",
    "# transform the schedule, add to the package\n",
    "f, i, j, k = schedule.get_indices()\n",
    "ii, jj = schedule.tile((i, j), (16, 16)) # loop tiling\n",
    "schedule.reorder(j, i, f, k, jj, ii) # loop reordering\n",
    "plan = schedule.create_plan()\n",
    "plan.unroll(ii) # loop unrolling\n",
    "plan.parallelize(i) # parallelize the i index\n",
    "package.add(plan, args=(A, B, C), base_name=\"matmul_relu_fusion_transformed\")\n",
    "\n",
    "# build a dynamically-linked package (a .dll or .so) that exports both functions\n",
    "print(package.build(name=\"hello_accera\", format=acc.Package.Format.HAT_DYNAMIC))"
   ]
  },
  {
   "cell_type": "markdown",
   "metadata": {},
   "source": [
    "### Benchmark\n",
    "\n",
    "In the previous section, we built a binary (.so) and a header file (.hat). \n",
    "\n",
    "Next, we will load the package and compare the timings of both implementations."
   ]
  },
  {
   "cell_type": "code",
   "execution_count": 2,
   "metadata": {},
   "outputs": [
    {
     "name": "stdout",
     "output_type": "stream",
     "text": [
      "\n",
      "Benchmarking function: matmul_relu_fusion_naive_e22614a4\n",
      "[Benchmarking] Using 27 input sets, each 3145728 bytes\n",
      "[Benchmarking] Warming up for 5 iterations...\n",
      "[Benchmarking] Timing for at least 5s and at least 5 iterations...\n",
      "[Benchmarking] Mean duration per iteration: 0.25400052s\n",
      "\n",
      "Benchmarking function: matmul_relu_fusion_transformed_71699a24\n",
      "[Benchmarking] Using 27 input sets, each 3145728 bytes\n",
      "[Benchmarking] Warming up for 5 iterations...\n",
      "[Benchmarking] Timing for at least 5s and at least 5 iterations...\n",
      "[Benchmarking] Mean duration per iteration: 0.03551062s\n"
     ]
    },
    {
     "data": {
      "text/plain": [
       "[{'function_name': 'matmul_relu_fusion_naive_e22614a4',\n",
       "  'mean': 0.26669897,\n",
       "  'median_of_means': 0.26722556000000003,\n",
       "  'mean_of_small_means': 0.25919145,\n",
       "  'robust_mean': 0.26186948666666665,\n",
       "  'min_of_means': 0.25267396},\n",
       " {'function_name': 'matmul_relu_fusion_transformed_71699a24',\n",
       "  'mean': 0.035762112857142855,\n",
       "  'median_of_means': 0.0349878,\n",
       "  'mean_of_small_means': 0.03459347285714286,\n",
       "  'robust_mean': 0.03532171647058824,\n",
       "  'min_of_means': 0.03413322}]"
      ]
     },
     "execution_count": 2,
     "metadata": {},
     "output_type": "execute_result"
    }
   ],
   "source": [
    "import hatlib as hat\n",
    "import numpy as np\n",
    "\n",
    "# load the package\n",
    "hat_package = hat.load(\"hello_accera.hat\")\n",
    "\n",
    "# call one of the functions with test inputs\n",
    "A_test = np.random.rand(512, 512).astype(np.float32)\n",
    "B_test = np.random.rand(512, 512).astype(np.float32)\n",
    "C_test = np.zeros((512, 512)).astype(np.float32)\n",
    "C_numpy = np.maximum(C_test + A_test @ B_test, 0.0)\n",
    "\n",
    "matmul_relu = hat_package[\"matmul_relu_fusion_transformed\"]\n",
    "matmul_relu(A_test, B_test, C_test)\n",
    "\n",
    "# check correctness\n",
    "np.testing.assert_allclose(C_test, C_numpy, atol=1e-3)\n",
    "\n",
    "# benchmark all functions\n",
    "hat.run_benchmark(\"hello_accera.hat\", batch_size=5, min_time_in_sec=5)"
   ]
  },
  {
   "cell_type": "markdown",
   "metadata": {},
   "source": [
    "### Next Steps\n",
    "\n",
    "The [Manual](https://microsoft.github.io/Accera/Manual/00%20Introduction/) is a good place to start for an introduction to the Accera Python programming model.\n",
    "\n",
    "In particular, the [schedule transformations](https://microsoft.github.io/Accera/Manual/03%20Schedules/#schedule-transformations) describe how you can experiment with different loop transformations with just a few lines of Python.\n",
    "\n",
    "Finally, the `.hat` format is just a C header file containing metadata. Learn more about the [HAT format](https://github.com/microsoft/hat) and [benchmarking](https://github.com/microsoft/hat/tree/main/tools).\n",
    "\n",
    "\n",
    "## How it works\n",
    "\n",
    "In a nutshell, Accera takes the Python code that defines the loop schedule and algorithm and converts it into [MLIR](https://mlir.llvm.org/) intermediate representation (IR). Accera's compiler then takes this IR through a series of MLIR pipelines to perform transformations. The result is a binary library with a C header file. The library implements the algorithms that are defined in Python, and is compatible with the target.\n",
    "\n",
    "To peek into the stages of IR transformation that Accera does, try replacing `format=acc.Package.Format.HAT_DYNAMIC` with `format=acc.Package.Format.MLIR_DYNAMIC` in `quickstart.py`, re-run the script, and search the `_tmp` subfolder for the intermediate `*.mlir` files. We plan to document these IR constructs in the future.\n",
    "\n",
    "\n",
    "## Documentation\n",
    "Get to know Accera by reading the [Documentation](https://microsoft.github.io/Accera/).\n",
    "\n",
    "You can find more step-by-step examples in the [Tutorials](https://microsoft.github.io/Accera/Tutorials)."
   ]
  }
 ],
 "metadata": {
  "kernelspec": {
   "display_name": "Python 3 (ipykernel)",
   "language": "python",
   "name": "python3"
  },
  "language_info": {
   "codemirror_mode": {
    "name": "ipython",
    "version": 3
   },
   "file_extension": ".py",
   "mimetype": "text/x-python",
   "name": "python",
   "nbconvert_exporter": "python",
   "pygments_lexer": "ipython3",
   "version": "3.8.8"
  }
 },
 "nbformat": 4,
 "nbformat_minor": 2
}
