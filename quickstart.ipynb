{
 "cells": [
  {
   "cell_type": "markdown",
   "metadata": {},
   "source": [
    "<img src=\"https://microsoft.github.io/Accera/assets/Accera_darktext.png\" alt=\"Accera logo\" width=\"600\"/>\n",
    "\n",
    "# Accera Quickstart"
   ]
  },
  {
   "cell_type": "markdown",
   "metadata": {},
   "source": [
    "### Install Accera\n",
    "\n",
    "First, we'll install Accera using `pip`.\n",
    "\n",
    "#### Additional Requirements\n",
    "This notebook is launched in an environment that has `gcc` pre-installed. If you are running this notebook locally, ensure that you run `apt install gcc` as well."
   ]
  },
  {
   "cell_type": "code",
   "execution_count": 6,
   "metadata": {},
   "outputs": [
    {
     "name": "stdout",
     "output_type": "stream",
     "text": [
      "Collecting accera==1.2.1.dev27\n",
      "  Downloading accera-1.2.1.dev27-cp38-cp38-manylinux_2_17_x86_64.manylinux2014_x86_64.whl (30.0 MB)\n",
      "\u001b[K     |████████████████████████████████| 30.0 MB 17.7 MB/s eta 0:00:01\n",
      "\u001b[?25hCollecting hatlib\n",
      "  Downloading hatlib-0.0.1.dev70-py3-none-any.whl (19 kB)\n",
      "Requirement already satisfied: accera-compilers in /usr/local/lib/python3.8/dist-packages (from accera==1.2.1.dev27) (1.2.0)\n",
      "Requirement already satisfied: tomlkit in /usr/local/lib/python3.8/dist-packages (from accera==1.2.1.dev27) (0.8.0)\n",
      "Requirement already satisfied: numpy in /usr/local/lib/python3.8/dist-packages (from accera==1.2.1.dev27) (1.22.1)\n",
      "Requirement already satisfied: accera-llvm in /usr/local/lib/python3.8/dist-packages (from accera==1.2.1.dev27) (1.2.0)\n",
      "Requirement already satisfied: pyyaml in /usr/local/lib/python3.8/dist-packages (from accera==1.2.1.dev27) (6.0)\n",
      "Collecting toml\n",
      "  Downloading toml-0.10.2-py2.py3-none-any.whl (16 kB)\n",
      "Requirement already satisfied: pandas in /usr/local/lib/python3.8/dist-packages (from hatlib->accera==1.2.1.dev27) (1.3.5)\n",
      "Requirement already satisfied: python-dateutil>=2.7.3 in /usr/local/lib/python3.8/dist-packages (from pandas->hatlib->accera==1.2.1.dev27) (2.8.2)\n",
      "Requirement already satisfied: pytz>=2017.3 in /usr/local/lib/python3.8/dist-packages (from pandas->hatlib->accera==1.2.1.dev27) (2021.3)\n",
      "Requirement already satisfied: six>=1.5 in /usr/lib/python3/dist-packages (from python-dateutil>=2.7.3->pandas->hatlib->accera==1.2.1.dev27) (1.14.0)\n",
      "Installing collected packages: toml, hatlib, accera\n",
      "  Attempting uninstall: accera\n",
      "    Found existing installation: accera 1.2.0\n",
      "    Uninstalling accera-1.2.0:\n",
      "      Successfully uninstalled accera-1.2.0\n",
      "Successfully installed accera-1.2.1.dev27 hatlib-0.0.1.dev70 toml-0.10.2\n"
     ]
    }
   ],
   "source": [
    "!pip3 install accera==1.2.1.dev27"
   ]
  },
  {
   "cell_type": "markdown",
   "metadata": {},
   "source": [
    "### Build your first package\n",
    "\n",
    "We'll build a package called `\"mypackage\"`, containing one function called `\"hello_accera\"`.\n",
    "\n",
    "This function performs the operation `B += A` on arrays `A` and `B`."
   ]
  },
  {
   "cell_type": "code",
   "execution_count": 14,
   "metadata": {},
   "outputs": [
    {
     "name": "stdout",
     "output_type": "stream",
     "text": [
      "Building function hello_accera_9e9c7806\n",
      "mkdir /root/accera-demo/_tmp/logs\n",
      "mkdir /root/accera-demo/_tmp/AcceraGPUUtilities_intermediate\n",
      "mkdir /root/accera-demo/_tmp\n",
      "mkdir /root/accera-demo/_tmp/generator\n",
      "mkdir /root/accera-demo/_tmp/lib\n",
      "mkdir /root/accera-demo/_tmp/AcceraGPUUtilities\n",
      "\n",
      "cd /root/accera-demo/_tmp/AcceraGPUUtilities\n",
      "\"/usr/local/lib/python3.8/dist-packages/accera/bin/acc-opt\" --verify-each=false --acc-to-llvm=\"dump-passes=false dump-intra-pass-ir=false target=host enable-profiling=false\" \"/root/accera-demo/_tmp/AcceraGPUUtilities.mlir\"\n",
      "\n",
      "\n",
      "cd /root/accera-demo/_tmp/AcceraGPUUtilities_intermediate\n",
      "\"/usr/local/lib/python3.8/dist-packages/accera/bin/mlir-translate\" --mlir-print-op-on-diagnostic --mlir-to-llvmir -o=\"/root/accera-demo/_tmp/AcceraGPUUtilities/AcceraGPUUtilities.ll\" \"/root/accera-demo/_tmp/AcceraGPUUtilities/AcceraGPUUtilities_llvm.mlir\"\n",
      "\n",
      "\n",
      "cd /root/accera-demo/_tmp/AcceraGPUUtilities_intermediate\n",
      "\"/usr/local/lib/python3.8/dist-packages/accera/bin/opt\" -O3 -fp-contract=fast -mcpu=native -o=\"/root/accera-demo/_tmp/AcceraGPUUtilities/AcceraGPUUtilities.bc\" \"/root/accera-demo/_tmp/AcceraGPUUtilities/AcceraGPUUtilities.ll\"\n",
      "\n",
      "\n",
      "cd /root/accera-demo/_tmp/AcceraGPUUtilities_intermediate\n",
      "\"/usr/local/lib/python3.8/dist-packages/accera/bin/llc\" -O3 -fp-contract=fast -mcpu=native -relocation-model=pic -filetype=obj -o=\"/root/accera-demo/_tmp/AcceraGPUUtilities/AcceraGPUUtilities.o\" \"/root/accera-demo/_tmp/AcceraGPUUtilities/AcceraGPUUtilities.bc\"\n",
      "\n",
      "\n",
      "cd /root/accera-demo/_tmp/AcceraGPUUtilities_intermediate\n",
      "\"/usr/local/lib/python3.8/dist-packages/accera/bin/llc\" -O3 -fp-contract=fast -mcpu=native -relocation-model=pic --filetype=asm -o=\"/root/accera-demo/_tmp/AcceraGPUUtilities/AcceraGPUUtilities.s\" \"/root/accera-demo/_tmp/AcceraGPUUtilities/AcceraGPUUtilities.bc\"\n",
      "\n",
      "mkdir /root/accera-demo/_tmp/logs\n",
      "mkdir /root/accera-demo/_tmp/mypackage_Globals_intermediate\n",
      "mkdir /root/accera-demo/_tmp\n",
      "mkdir /root/accera-demo/_tmp/generator\n",
      "mkdir /root/accera-demo/_tmp/lib\n",
      "mkdir /root/accera-demo/_tmp/mypackage_Globals\n",
      "\n",
      "cd /root/accera-demo/_tmp/mypackage_Globals\n",
      "\"/usr/local/lib/python3.8/dist-packages/accera/bin/acc-opt\" --verify-each=false --acc-to-llvm=\"dump-passes=false dump-intra-pass-ir=false target=host enable-profiling=false\" \"/root/accera-demo/_tmp/mypackage_Globals.mlir\"\n",
      "\n",
      "\n",
      "cd /root/accera-demo/_tmp/mypackage_Globals_intermediate\n",
      "\"/usr/local/lib/python3.8/dist-packages/accera/bin/mlir-translate\" --mlir-print-op-on-diagnostic --mlir-to-llvmir -o=\"/root/accera-demo/_tmp/mypackage_Globals/mypackage_Globals.ll\" \"/root/accera-demo/_tmp/mypackage_Globals/mypackage_Globals_llvm.mlir\"\n",
      "\n",
      "\n",
      "cd /root/accera-demo/_tmp/mypackage_Globals_intermediate\n",
      "\"/usr/local/lib/python3.8/dist-packages/accera/bin/opt\" -O3 -fp-contract=fast -mcpu=native -o=\"/root/accera-demo/_tmp/mypackage_Globals/mypackage_Globals.bc\" \"/root/accera-demo/_tmp/mypackage_Globals/mypackage_Globals.ll\"\n",
      "\n",
      "\n",
      "cd /root/accera-demo/_tmp/mypackage_Globals_intermediate\n",
      "\"/usr/local/lib/python3.8/dist-packages/accera/bin/llc\" -O3 -fp-contract=fast -mcpu=native -relocation-model=pic -filetype=obj -o=\"/root/accera-demo/_tmp/mypackage_Globals/mypackage_Globals.o\" \"/root/accera-demo/_tmp/mypackage_Globals/mypackage_Globals.bc\"\n",
      "\n",
      "\n",
      "cd /root/accera-demo/_tmp/mypackage_Globals_intermediate\n",
      "\"/usr/local/lib/python3.8/dist-packages/accera/bin/llc\" -O3 -fp-contract=fast -mcpu=native -relocation-model=pic --filetype=asm -o=\"/root/accera-demo/_tmp/mypackage_Globals/mypackage_Globals.s\" \"/root/accera-demo/_tmp/mypackage_Globals/mypackage_Globals.bc\"\n",
      "\n",
      "mkdir /root/accera-demo/_tmp/logs\n",
      "mkdir /root/accera-demo/_tmp/mypackage_intermediate\n",
      "mkdir /root/accera-demo/_tmp\n",
      "mkdir /root/accera-demo/_tmp/generator\n",
      "mkdir /root/accera-demo/_tmp/lib\n",
      "mkdir /root/accera-demo/_tmp/mypackage\n",
      "\n",
      "cd /root/accera-demo/_tmp/mypackage\n",
      "\"/usr/local/lib/python3.8/dist-packages/accera/bin/acc-opt\" --verify-each=false --acc-to-llvm=\"dump-passes=false dump-intra-pass-ir=false target=host enable-profiling=false\" \"/root/accera-demo/_tmp/mypackage.mlir\"\n",
      "\n",
      "\n",
      "cd /root/accera-demo/_tmp/mypackage_intermediate\n",
      "\"/usr/local/lib/python3.8/dist-packages/accera/bin/mlir-translate\" --mlir-print-op-on-diagnostic --mlir-to-llvmir -o=\"/root/accera-demo/_tmp/mypackage/mypackage.ll\" \"/root/accera-demo/_tmp/mypackage/mypackage_llvm.mlir\"\n",
      "\n",
      "\n",
      "cd /root/accera-demo/_tmp/mypackage_intermediate\n",
      "\"/usr/local/lib/python3.8/dist-packages/accera/bin/opt\" -O3 -fp-contract=fast -mcpu=native -o=\"/root/accera-demo/_tmp/mypackage/mypackage.bc\" \"/root/accera-demo/_tmp/mypackage/mypackage.ll\"\n",
      "\n",
      "\n",
      "cd /root/accera-demo/_tmp/mypackage_intermediate\n",
      "\"/usr/local/lib/python3.8/dist-packages/accera/bin/llc\" -O3 -fp-contract=fast -mcpu=native -relocation-model=pic -filetype=obj -o=\"/root/accera-demo/_tmp/mypackage/mypackage.o\" \"/root/accera-demo/_tmp/mypackage/mypackage.bc\"\n",
      "\n",
      "\n",
      "cd /root/accera-demo/_tmp/mypackage_intermediate\n",
      "\"/usr/local/lib/python3.8/dist-packages/accera/bin/llc\" -O3 -fp-contract=fast -mcpu=native -relocation-model=pic --filetype=asm -o=\"/root/accera-demo/_tmp/mypackage/mypackage.s\" \"/root/accera-demo/_tmp/mypackage/mypackage.bc\"\n",
      "\n"
     ]
    }
   ],
   "source": [
    "import accera as acc\n",
    "import hatlib as hat\n",
    "import numpy as np\n",
    "\n",
    "A = acc.Array(role=acc.Array.Role.INPUT, shape=(16, 16))\n",
    "B = acc.Array(role=acc.Array.Role.INPUT_OUTPUT, shape=(16, 16))\n",
    "\n",
    "nest = acc.Nest(shape=(16, 16))\n",
    "i, j = nest.get_indices()\n",
    "\n",
    "@nest.iteration_logic\n",
    "def _():\n",
    "    B[i, j] += A[i, j]\n",
    "\n",
    "package = acc.Package()\n",
    "function = package.add(nest, args=(A, B), base_name=\"hello_accera\")\n",
    "package.build(name=\"mypackage\")\n",
    "\n",
    "hat.create_dynamic_package(\"mypackage.hat\", \"mypackage_dyn.hat\")"
   ]
  },
  {
   "cell_type": "markdown",
   "metadata": {},
   "source": [
    "### Load the package and call the function\n",
    "\n",
    "After the package is built, this produces a dynamic library (`mypackage.so`). The code below calls the `hello_accera` function we just built with two example NumPy arrays."
   ]
  },
  {
   "cell_type": "code",
   "execution_count": null,
   "metadata": {},
   "outputs": [],
   "source": [
    "hat_package = hat.load(\"mypackage_dyn.hat\")\n",
    "hello_accera = hat_package[\"hello_accera\"]\n",
    "\n",
    "# call the function with test input\n",
    "A_test = np.ones((16, 16), dtype=np.float32)\n",
    "B_test = np.ones((16, 16), dtype=np.float32) * 2.14\n",
    "print(f\"Before hello_accera(): {B_test}\")\n",
    "hello_accera(A_test, B_test)\n",
    "print(f\"After hello_accera(): {B_test}\")"
   ]
  }
 ],
 "metadata": {
  "kernelspec": {
   "display_name": "Python 3 (ipykernel)",
   "language": "python",
   "name": "python3"
  },
  "language_info": {
   "codemirror_mode": {
    "name": "ipython",
    "version": 3
   },
   "file_extension": ".py",
   "mimetype": "text/x-python",
   "name": "python",
   "nbconvert_exporter": "python",
   "pygments_lexer": "ipython3",
   "version": "3.8.10"
  }
 },
 "nbformat": 4,
 "nbformat_minor": 2
}
