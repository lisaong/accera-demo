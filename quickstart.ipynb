{
 "cells": [
  {
   "cell_type": "markdown",
   "metadata": {},
   "source": [
    "<img src=\"https://microsoft.github.io/Accera/assets/Accera_darktext.png\" alt=\"Accera logo\" width=\"600\"/>\n",
    "\n",
    "# Accera Quickstart"
   ]
  },
  {
   "cell_type": "markdown",
   "metadata": {},
   "source": [
    "### Install Accera\n",
    "\n",
    "First, we'll install Accera using `pip`.\n",
    "\n",
    "#### Requirements for running locally\n",
    "\n",
    "To run this notebook locally:\n",
    "\n",
    "* Linux/macOS: install gcc using `apt install gcc`.\n",
    "* Windows: install Microsoft Visual Studio and run `vcvars64.bat` to setup Visual Studio tools in your `PATH` before starting the Jupyter environment."
   ]
  },
  {
   "cell_type": "code",
   "execution_count": null,
   "metadata": {},
   "outputs": [],
   "source": [
    "!pip install accera==1.2.1.dev42"
   ]
  },
  {
   "cell_type": "markdown",
   "metadata": {},
   "source": [
    "### Build your first package\n",
    "\n",
    "We'll build a package called `\"mypackage\"`, containing one function called `\"hello_accera\"`.\n",
    "\n",
    "This function performs the operation `B += A` on arrays `A` and `B`."
   ]
  },
  {
   "cell_type": "code",
   "execution_count": null,
   "metadata": {},
   "outputs": [],
   "source": [
    "import accera as acc\n",
    "import hatlib as hat\n",
    "import numpy as np\n",
    "\n",
    "A = acc.Array(role=acc.Array.Role.INPUT, shape=(16, 16))\n",
    "B = acc.Array(role=acc.Array.Role.INPUT_OUTPUT, shape=(16, 16))\n",
    "\n",
    "nest = acc.Nest(shape=(16, 16))\n",
    "i, j = nest.get_indices()\n",
    "\n",
    "@nest.iteration_logic\n",
    "def _():\n",
    "    B[i, j] += A[i, j]\n",
    "\n",
    "package = acc.Package()\n",
    "package.add(nest, args=(A, B), base_name=\"hello_accera\")\n",
    "package.build(name=\"mypackage\", format=acc.Package.Format.HAT_DYNAMIC)"
   ]
  },
  {
   "cell_type": "markdown",
   "metadata": {},
   "source": [
    "### Load the package and call the function\n",
    "\n",
    "`package.build` produces a dynamic library (`mypackage_*.so`) that exports the `hello_accera` function. \n",
    "\n",
    "Let's call our function with some NumPy arrays."
   ]
  },
  {
   "cell_type": "code",
   "execution_count": null,
   "metadata": {},
   "outputs": [],
   "source": [
    "hat_package = hat.load(\"mypackage.hat\")\n",
    "hello_accera = hat_package[\"hello_accera\"]\n",
    "\n",
    "# call the function with test input\n",
    "A_test = np.ones((16, 16), dtype=np.float32) * 3\n",
    "B_test = np.ones((16, 16), dtype=np.float32) * .14\n",
    "print(f\"Before hello_accera(): {B_test}\")\n",
    "hello_accera(A_test, B_test)\n",
    "print(f\"After hello_accera(): {B_test}\")"
   ]
  }
 ],
 "metadata": {
  "kernelspec": {
   "display_name": "Python 3 (ipykernel)",
   "language": "python",
   "name": "python3"
  },
  "language_info": {
   "codemirror_mode": {
    "name": "ipython",
    "version": 3
   },
   "file_extension": ".py",
   "mimetype": "text/x-python",
   "name": "python",
   "nbconvert_exporter": "python",
   "pygments_lexer": "ipython3",
   "version": "3.8.8"
  }
 },
 "nbformat": 4,
 "nbformat_minor": 2
}
